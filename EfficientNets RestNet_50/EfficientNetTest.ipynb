{
 "cells": [
  {
   "cell_type": "code",
   "execution_count": 2,
   "id": "cb2e100f-667d-4c5c-8fee-a4d858fddc16",
   "metadata": {},
   "outputs": [
    {
     "name": "stderr",
     "output_type": "stream",
     "text": [
      "2024-11-12 17:51:04.551714: E external/local_xla/xla/stream_executor/cuda/cuda_fft.cc:485] Unable to register cuFFT factory: Attempting to register factory for plugin cuFFT when one has already been registered\n",
      "2024-11-12 17:51:04.728697: E external/local_xla/xla/stream_executor/cuda/cuda_dnn.cc:8454] Unable to register cuDNN factory: Attempting to register factory for plugin cuDNN when one has already been registered\n",
      "2024-11-12 17:51:04.775951: E external/local_xla/xla/stream_executor/cuda/cuda_blas.cc:1452] Unable to register cuBLAS factory: Attempting to register factory for plugin cuBLAS when one has already been registered\n",
      "2024-11-12 17:51:05.124453: I tensorflow/core/platform/cpu_feature_guard.cc:210] This TensorFlow binary is optimized to use available CPU instructions in performance-critical operations.\n",
      "To enable the following instructions: AVX2 FMA, in other operations, rebuild TensorFlow with the appropriate compiler flags.\n",
      "2024-11-12 17:51:06.662704: W tensorflow/compiler/tf2tensorrt/utils/py_utils.cc:38] TF-TRT Warning: Could not find TensorRT\n"
     ]
    },
    {
     "name": "stdout",
     "output_type": "stream",
     "text": [
      "['fake', 'real']\n",
      "Types of classes labels found:  2\n"
     ]
    }
   ],
   "source": [
    "import numpy as np\n",
    "import tensorflow as tf\n",
    "\n",
    "import numpy as np \n",
    "import pandas as pd \n",
    "import matplotlib.pyplot as plt\n",
    "import os\n",
    "\n",
    "dataset_path = os.listdir('Data')\n",
    "\n",
    "print (dataset_path)  #what kinds of classes are in this dataset\n",
    "\n",
    "print(\"Types of classes labels found: \", len(dataset_path))"
   ]
  },
  {
   "cell_type": "code",
   "execution_count": 4,
   "id": "ec1cf510-bb27-4336-8540-017aae7c9c8f",
   "metadata": {},
   "outputs": [],
   "source": [
    "class_labels = []\n",
    "\n",
    "for item in dataset_path:\n",
    " # Get all the file names\n",
    " all_classes = os.listdir('Data' + '/' +item)\n",
    " #print(all_classes)\n",
    "\n",
    " # Add them to the list\n",
    " for room in all_classes:\n",
    "    class_labels.append((item, str('dataset_path' + '/' +item) + '/' + room))\n",
    "    #print(class_labels[:5])"
   ]
  },
  {
   "cell_type": "code",
   "execution_count": 6,
   "id": "b9cd5d46-0e30-40b7-bef2-2a583c845d49",
   "metadata": {},
   "outputs": [
    {
     "name": "stdout",
     "output_type": "stream",
     "text": [
      "  Labels                            image\n",
      "0   fake  dataset_path/fake/fake_1338.jpg\n",
      "1   fake   dataset_path/fake/fake_568.jpg\n",
      "2   fake   dataset_path/fake/fake_410.jpg\n",
      "3   fake  dataset_path/fake/fake_1376.jpg\n",
      "4   fake   dataset_path/fake/fake_303.jpg\n",
      "     Labels                            image\n",
      "2995   real  dataset_path/real/real_1088.jpg\n",
      "2996   real  dataset_path/real/real_1496.jpg\n",
      "2997   real   dataset_path/real/real_166.jpg\n",
      "2998   real  dataset_path/real/real_1327.jpg\n",
      "2999   real  dataset_path/real/real_1416.jpg\n"
     ]
    }
   ],
   "source": [
    "# Build a dataframe        \n",
    "df = pd.DataFrame(data=class_labels, columns=['Labels', 'image'])\n",
    "print(df.head())\n",
    "print(df.tail())"
   ]
  },
  {
   "cell_type": "code",
   "execution_count": 8,
   "id": "04bb8598-cc51-4610-81e8-7aeca86442cb",
   "metadata": {},
   "outputs": [
    {
     "name": "stdout",
     "output_type": "stream",
     "text": [
      "Total number of images in the dataset:  3000\n",
      "Labels\n",
      "fake    1500\n",
      "real    1500\n",
      "Name: count, dtype: int64\n"
     ]
    }
   ],
   "source": [
    "# Let's check how many samples for each category are present\n",
    "print(\"Total number of images in the dataset: \", len(df))\n",
    "\n",
    "label_count = df['Labels'].value_counts()\n",
    "print(label_count)"
   ]
  },
  {
   "cell_type": "code",
   "execution_count": 10,
   "id": "3167e7b2-d41f-4585-8d35-67499e915e16",
   "metadata": {},
   "outputs": [],
   "source": [
    "import cv2\n",
    "path = 'Data/'\n",
    "dataset_path = os.listdir('Data')\n",
    "\n",
    "im_size = 224\n",
    "\n",
    "images = []\n",
    "labels = []\n",
    "\n",
    "for i in dataset_path:\n",
    "    data_path = path + str(i)  \n",
    "    filenames = [i for i in os.listdir(data_path) ]\n",
    "   \n",
    "    for f in filenames:\n",
    "        img = cv2.imread(data_path + '/' + f)\n",
    "        img = cv2.resize(img, (im_size, im_size))\n",
    "        images.append(img)\n",
    "        labels.append(i)"
   ]
  },
  {
   "cell_type": "code",
   "execution_count": 12,
   "id": "c80d4e99-c376-40a5-a872-11d7eb52995b",
   "metadata": {},
   "outputs": [
    {
     "data": {
      "text/plain": [
       "(3000, 224, 224, 3)"
      ]
     },
     "execution_count": 12,
     "metadata": {},
     "output_type": "execute_result"
    }
   ],
   "source": [
    "images = np.array(images)\n",
    "\n",
    "images = images.astype('float32') / 255.0\n",
    "images.shape"
   ]
  },
  {
   "cell_type": "code",
   "execution_count": 14,
   "id": "d508db09-0e18-4892-9de9-ac5a3ed39e04",
   "metadata": {},
   "outputs": [
    {
     "name": "stdout",
     "output_type": "stream",
     "text": [
      "['fake' 'fake' 'fake' ... 'real' 'real' 'real']\n",
      "[0 0 0 ... 1 1 1]\n"
     ]
    }
   ],
   "source": [
    "from sklearn.preprocessing import LabelEncoder , OneHotEncoder\n",
    "y=df['Labels'].values\n",
    "print(y)\n",
    "\n",
    "y_labelencoder = LabelEncoder ()\n",
    "y = y_labelencoder.fit_transform (y)\n",
    "print (y)"
   ]
  },
  {
   "cell_type": "code",
   "execution_count": 16,
   "id": "200bc17f-21da-4029-b32c-e0fd1e3a4487",
   "metadata": {},
   "outputs": [
    {
     "name": "stdout",
     "output_type": "stream",
     "text": [
      "[[1. 0.]\n",
      " [1. 0.]\n",
      " [1. 0.]\n",
      " [1. 0.]\n",
      " [1. 0.]]\n",
      "[[1. 0.]\n",
      " [1. 0.]\n",
      " [1. 0.]\n",
      " ...\n",
      " [0. 1.]\n",
      " [0. 1.]\n",
      " [0. 1.]]\n"
     ]
    }
   ],
   "source": [
    "y=y.reshape(-1,1)\n",
    "\n",
    "from sklearn.compose import ColumnTransformer\n",
    "ct = ColumnTransformer([('my_ohe', OneHotEncoder(), [0])], remainder='passthrough')\n",
    "Y = ct.fit_transform(y) #.toarray()\n",
    "print(Y[:5])\n",
    "print(Y[35:])"
   ]
  },
  {
   "cell_type": "code",
   "execution_count": 18,
   "id": "7c2dcd8f-94be-4323-9066-5a33acd1d1b9",
   "metadata": {},
   "outputs": [
    {
     "name": "stdout",
     "output_type": "stream",
     "text": [
      "(2850, 224, 224, 3)\n",
      "(2850, 2)\n",
      "(150, 224, 224, 3)\n",
      "(150, 2)\n"
     ]
    }
   ],
   "source": [
    "from sklearn.utils import shuffle\n",
    "from sklearn.model_selection import train_test_split\n",
    "\n",
    "\n",
    "images, Y = shuffle(images, Y, random_state=1)\n",
    "\n",
    "\n",
    "train_x, test_x, train_y, test_y = train_test_split(images, Y, test_size=0.05, random_state=42)\n",
    "\n",
    "#inpect the shape of the training and testing.\n",
    "print(train_x.shape)\n",
    "print(train_y.shape)\n",
    "print(test_x.shape)\n",
    "print(test_y.shape)"
   ]
  },
  {
   "cell_type": "markdown",
   "id": "bc291994-0b2b-497b-b88d-0bf6b8751ebc",
   "metadata": {},
   "source": [
    "# EfficientNet Implementation :"
   ]
  },
  {
   "cell_type": "code",
   "execution_count": 21,
   "id": "26c96856-485e-408d-82f5-8114d57884a3",
   "metadata": {},
   "outputs": [
    {
     "name": "stderr",
     "output_type": "stream",
     "text": [
      "WARNING: All log messages before absl::InitializeLog() is called are written to STDERR\n",
      "I0000 00:00:1731466308.635749   32193 cuda_executor.cc:1015] successful NUMA node read from SysFS had negative value (-1), but there must be at least one NUMA node, so returning NUMA node zero. See more at https://github.com/torvalds/linux/blob/v6.0/Documentation/ABI/testing/sysfs-bus-pci#L344-L355\n",
      "I0000 00:00:1731466308.997880   32193 cuda_executor.cc:1015] successful NUMA node read from SysFS had negative value (-1), but there must be at least one NUMA node, so returning NUMA node zero. See more at https://github.com/torvalds/linux/blob/v6.0/Documentation/ABI/testing/sysfs-bus-pci#L344-L355\n",
      "I0000 00:00:1731466309.000949   32193 cuda_executor.cc:1015] successful NUMA node read from SysFS had negative value (-1), but there must be at least one NUMA node, so returning NUMA node zero. See more at https://github.com/torvalds/linux/blob/v6.0/Documentation/ABI/testing/sysfs-bus-pci#L344-L355\n",
      "I0000 00:00:1731466309.006953   32193 cuda_executor.cc:1015] successful NUMA node read from SysFS had negative value (-1), but there must be at least one NUMA node, so returning NUMA node zero. See more at https://github.com/torvalds/linux/blob/v6.0/Documentation/ABI/testing/sysfs-bus-pci#L344-L355\n",
      "I0000 00:00:1731466309.009977   32193 cuda_executor.cc:1015] successful NUMA node read from SysFS had negative value (-1), but there must be at least one NUMA node, so returning NUMA node zero. See more at https://github.com/torvalds/linux/blob/v6.0/Documentation/ABI/testing/sysfs-bus-pci#L344-L355\n",
      "I0000 00:00:1731466309.012606   32193 cuda_executor.cc:1015] successful NUMA node read from SysFS had negative value (-1), but there must be at least one NUMA node, so returning NUMA node zero. See more at https://github.com/torvalds/linux/blob/v6.0/Documentation/ABI/testing/sysfs-bus-pci#L344-L355\n",
      "I0000 00:00:1731466309.141418   32193 cuda_executor.cc:1015] successful NUMA node read from SysFS had negative value (-1), but there must be at least one NUMA node, so returning NUMA node zero. See more at https://github.com/torvalds/linux/blob/v6.0/Documentation/ABI/testing/sysfs-bus-pci#L344-L355\n",
      "I0000 00:00:1731466309.142870   32193 cuda_executor.cc:1015] successful NUMA node read from SysFS had negative value (-1), but there must be at least one NUMA node, so returning NUMA node zero. See more at https://github.com/torvalds/linux/blob/v6.0/Documentation/ABI/testing/sysfs-bus-pci#L344-L355\n",
      "I0000 00:00:1731466309.144321   32193 cuda_executor.cc:1015] successful NUMA node read from SysFS had negative value (-1), but there must be at least one NUMA node, so returning NUMA node zero. See more at https://github.com/torvalds/linux/blob/v6.0/Documentation/ABI/testing/sysfs-bus-pci#L344-L355\n",
      "2024-11-12 17:51:49.146562: I tensorflow/core/common_runtime/gpu/gpu_device.cc:2021] Created device /job:localhost/replica:0/task:0/device:GPU:0 with 4168 MB memory:  -> device: 0, name: NVIDIA GeForce RTX 3060 Laptop GPU, pci bus id: 0000:01:00.0, compute capability: 8.6\n"
     ]
    }
   ],
   "source": [
    "from tensorflow.keras import layers\n",
    "from tensorflow.keras.applications import EfficientNetB0\n",
    "\n",
    "NUM_CLASSES = 2\n",
    "IMG_SIZE = 224\n",
    "size = (IMG_SIZE, IMG_SIZE)\n",
    "\n",
    "\n",
    "inputs = layers.Input(shape=(IMG_SIZE, IMG_SIZE, 3))\n",
    "\n",
    "\n",
    "# Using model without transfer learning\n",
    "\n",
    "outputs = EfficientNetB0(include_top=True, weights=None, classes=NUM_CLASSES)(inputs)"
   ]
  },
  {
   "cell_type": "code",
   "execution_count": 23,
   "id": "d97f8d5d-7ba8-4245-ad47-4a35c550eeb8",
   "metadata": {},
   "outputs": [
    {
     "data": {
      "text/html": [
       "<pre style=\"white-space:pre;overflow-x:auto;line-height:normal;font-family:Menlo,'DejaVu Sans Mono',consolas,'Courier New',monospace\"><span style=\"font-weight: bold\">Model: \"functional\"</span>\n",
       "</pre>\n"
      ],
      "text/plain": [
       "\u001b[1mModel: \"functional\"\u001b[0m\n"
      ]
     },
     "metadata": {},
     "output_type": "display_data"
    },
    {
     "data": {
      "text/html": [
       "<pre style=\"white-space:pre;overflow-x:auto;line-height:normal;font-family:Menlo,'DejaVu Sans Mono',consolas,'Courier New',monospace\">┏━━━━━━━━━━━━━━━━━━━━━━━━━━━━━━━━━┳━━━━━━━━━━━━━━━━━━━━━━━━┳━━━━━━━━━━━━━━━┓\n",
       "┃<span style=\"font-weight: bold\"> Layer (type)                    </span>┃<span style=\"font-weight: bold\"> Output Shape           </span>┃<span style=\"font-weight: bold\">       Param # </span>┃\n",
       "┡━━━━━━━━━━━━━━━━━━━━━━━━━━━━━━━━━╇━━━━━━━━━━━━━━━━━━━━━━━━╇━━━━━━━━━━━━━━━┩\n",
       "│ input_layer (<span style=\"color: #0087ff; text-decoration-color: #0087ff\">InputLayer</span>)        │ (<span style=\"color: #00d7ff; text-decoration-color: #00d7ff\">None</span>, <span style=\"color: #00af00; text-decoration-color: #00af00\">224</span>, <span style=\"color: #00af00; text-decoration-color: #00af00\">224</span>, <span style=\"color: #00af00; text-decoration-color: #00af00\">3</span>)    │             <span style=\"color: #00af00; text-decoration-color: #00af00\">0</span> │\n",
       "├─────────────────────────────────┼────────────────────────┼───────────────┤\n",
       "│ efficientnetb0 (<span style=\"color: #0087ff; text-decoration-color: #0087ff\">Functional</span>)     │ (<span style=\"color: #00d7ff; text-decoration-color: #00d7ff\">None</span>, <span style=\"color: #00af00; text-decoration-color: #00af00\">2</span>)              │     <span style=\"color: #00af00; text-decoration-color: #00af00\">4,052,133</span> │\n",
       "└─────────────────────────────────┴────────────────────────┴───────────────┘\n",
       "</pre>\n"
      ],
      "text/plain": [
       "┏━━━━━━━━━━━━━━━━━━━━━━━━━━━━━━━━━┳━━━━━━━━━━━━━━━━━━━━━━━━┳━━━━━━━━━━━━━━━┓\n",
       "┃\u001b[1m \u001b[0m\u001b[1mLayer (type)                   \u001b[0m\u001b[1m \u001b[0m┃\u001b[1m \u001b[0m\u001b[1mOutput Shape          \u001b[0m\u001b[1m \u001b[0m┃\u001b[1m \u001b[0m\u001b[1m      Param #\u001b[0m\u001b[1m \u001b[0m┃\n",
       "┡━━━━━━━━━━━━━━━━━━━━━━━━━━━━━━━━━╇━━━━━━━━━━━━━━━━━━━━━━━━╇━━━━━━━━━━━━━━━┩\n",
       "│ input_layer (\u001b[38;5;33mInputLayer\u001b[0m)        │ (\u001b[38;5;45mNone\u001b[0m, \u001b[38;5;34m224\u001b[0m, \u001b[38;5;34m224\u001b[0m, \u001b[38;5;34m3\u001b[0m)    │             \u001b[38;5;34m0\u001b[0m │\n",
       "├─────────────────────────────────┼────────────────────────┼───────────────┤\n",
       "│ efficientnetb0 (\u001b[38;5;33mFunctional\u001b[0m)     │ (\u001b[38;5;45mNone\u001b[0m, \u001b[38;5;34m2\u001b[0m)              │     \u001b[38;5;34m4,052,133\u001b[0m │\n",
       "└─────────────────────────────────┴────────────────────────┴───────────────┘\n"
      ]
     },
     "metadata": {},
     "output_type": "display_data"
    },
    {
     "data": {
      "text/html": [
       "<pre style=\"white-space:pre;overflow-x:auto;line-height:normal;font-family:Menlo,'DejaVu Sans Mono',consolas,'Courier New',monospace\"><span style=\"font-weight: bold\"> Total params: </span><span style=\"color: #00af00; text-decoration-color: #00af00\">4,052,133</span> (15.46 MB)\n",
       "</pre>\n"
      ],
      "text/plain": [
       "\u001b[1m Total params: \u001b[0m\u001b[38;5;34m4,052,133\u001b[0m (15.46 MB)\n"
      ]
     },
     "metadata": {},
     "output_type": "display_data"
    },
    {
     "data": {
      "text/html": [
       "<pre style=\"white-space:pre;overflow-x:auto;line-height:normal;font-family:Menlo,'DejaVu Sans Mono',consolas,'Courier New',monospace\"><span style=\"font-weight: bold\"> Trainable params: </span><span style=\"color: #00af00; text-decoration-color: #00af00\">4,010,110</span> (15.30 MB)\n",
       "</pre>\n"
      ],
      "text/plain": [
       "\u001b[1m Trainable params: \u001b[0m\u001b[38;5;34m4,010,110\u001b[0m (15.30 MB)\n"
      ]
     },
     "metadata": {},
     "output_type": "display_data"
    },
    {
     "data": {
      "text/html": [
       "<pre style=\"white-space:pre;overflow-x:auto;line-height:normal;font-family:Menlo,'DejaVu Sans Mono',consolas,'Courier New',monospace\"><span style=\"font-weight: bold\"> Non-trainable params: </span><span style=\"color: #00af00; text-decoration-color: #00af00\">42,023</span> (164.16 KB)\n",
       "</pre>\n"
      ],
      "text/plain": [
       "\u001b[1m Non-trainable params: \u001b[0m\u001b[38;5;34m42,023\u001b[0m (164.16 KB)\n"
      ]
     },
     "metadata": {},
     "output_type": "display_data"
    },
    {
     "name": "stderr",
     "output_type": "stream",
     "text": [
      "2024-11-12 17:51:56.004710: W external/local_tsl/tsl/framework/cpu_allocator_impl.cc:83] Allocation of 1716019200 exceeds 10% of free system memory.\n",
      "2024-11-12 17:51:57.651894: W external/local_tsl/tsl/framework/cpu_allocator_impl.cc:83] Allocation of 1716019200 exceeds 10% of free system memory.\n"
     ]
    },
    {
     "name": "stdout",
     "output_type": "stream",
     "text": [
      "Epoch 1/50\n"
     ]
    },
    {
     "name": "stderr",
     "output_type": "stream",
     "text": [
      "WARNING: All log messages before absl::InitializeLog() is called are written to STDERR\n",
      "I0000 00:00:1731466338.546555   32341 service.cc:146] XLA service 0x7e392c002a60 initialized for platform CUDA (this does not guarantee that XLA will be used). Devices:\n",
      "I0000 00:00:1731466338.546576   32341 service.cc:154]   StreamExecutor device (0): NVIDIA GeForce RTX 3060 Laptop GPU, Compute Capability 8.6\n",
      "2024-11-12 17:52:19.257524: I tensorflow/compiler/mlir/tensorflow/utils/dump_mlir_util.cc:268] disabling MLIR crash reproducer, set env var `MLIR_CRASH_REPRODUCER_DIRECTORY` to enable.\n",
      "2024-11-12 17:52:21.763331: I external/local_xla/xla/stream_executor/cuda/cuda_dnn.cc:531] Loaded cuDNN version 8907\n",
      "E0000 00:00:1731466357.013290   32341 gpu_timer.cc:183] Delay kernel timed out: measured time has sub-optimal accuracy. There may be a missing warmup execution, please investigate in Nsight Systems.\n",
      "E0000 00:00:1731466357.129412   32341 gpu_timer.cc:183] Delay kernel timed out: measured time has sub-optimal accuracy. There may be a missing warmup execution, please investigate in Nsight Systems.\n",
      "I0000 00:00:1731466371.705814   32341 device_compiler.h:188] Compiled cluster using XLA!  This line is logged at most once for the lifetime of the process.\n"
     ]
    },
    {
     "name": "stdout",
     "output_type": "stream",
     "text": [
      "90/90 - 88s - 979ms/step - accuracy: 0.5021 - loss: 2.5589\n",
      "Epoch 2/50\n",
      "90/90 - 8s - 91ms/step - accuracy: 0.5088 - loss: 1.4482\n",
      "Epoch 3/50\n",
      "90/90 - 8s - 91ms/step - accuracy: 0.5256 - loss: 1.0691\n",
      "Epoch 4/50\n",
      "90/90 - 8s - 91ms/step - accuracy: 0.4979 - loss: 1.2877\n",
      "Epoch 5/50\n",
      "90/90 - 8s - 91ms/step - accuracy: 0.5060 - loss: 1.0296\n",
      "Epoch 6/50\n",
      "90/90 - 8s - 91ms/step - accuracy: 0.5032 - loss: 0.9123\n",
      "Epoch 7/50\n",
      "90/90 - 8s - 91ms/step - accuracy: 0.5144 - loss: 0.9228\n",
      "Epoch 8/50\n",
      "90/90 - 8s - 91ms/step - accuracy: 0.5154 - loss: 0.8591\n",
      "Epoch 9/50\n",
      "90/90 - 8s - 91ms/step - accuracy: 0.5182 - loss: 0.8843\n",
      "Epoch 10/50\n",
      "90/90 - 8s - 91ms/step - accuracy: 0.5821 - loss: 0.8380\n",
      "Epoch 11/50\n",
      "90/90 - 8s - 91ms/step - accuracy: 0.6449 - loss: 0.8260\n",
      "Epoch 12/50\n",
      "90/90 - 8s - 92ms/step - accuracy: 0.7046 - loss: 0.6843\n",
      "Epoch 13/50\n",
      "90/90 - 8s - 92ms/step - accuracy: 0.7488 - loss: 0.6066\n",
      "Epoch 14/50\n",
      "90/90 - 8s - 92ms/step - accuracy: 0.7523 - loss: 0.6001\n",
      "Epoch 15/50\n",
      "90/90 - 8s - 92ms/step - accuracy: 0.7649 - loss: 0.5779\n",
      "Epoch 16/50\n",
      "90/90 - 8s - 92ms/step - accuracy: 0.8189 - loss: 0.4546\n",
      "Epoch 17/50\n",
      "90/90 - 8s - 92ms/step - accuracy: 0.7993 - loss: 0.5074\n",
      "Epoch 18/50\n",
      "90/90 - 8s - 92ms/step - accuracy: 0.8091 - loss: 0.4617\n",
      "Epoch 19/50\n",
      "90/90 - 8s - 92ms/step - accuracy: 0.8653 - loss: 0.3833\n",
      "Epoch 20/50\n",
      "90/90 - 8s - 92ms/step - accuracy: 0.9084 - loss: 0.2701\n",
      "Epoch 21/50\n",
      "90/90 - 8s - 92ms/step - accuracy: 0.8870 - loss: 0.3031\n",
      "Epoch 22/50\n",
      "90/90 - 8s - 92ms/step - accuracy: 0.9344 - loss: 0.2378\n",
      "Epoch 23/50\n",
      "90/90 - 8s - 92ms/step - accuracy: 0.8870 - loss: 0.3424\n",
      "Epoch 24/50\n",
      "90/90 - 8s - 93ms/step - accuracy: 0.9193 - loss: 0.2453\n",
      "Epoch 25/50\n",
      "90/90 - 8s - 92ms/step - accuracy: 0.9305 - loss: 0.2397\n",
      "Epoch 26/50\n",
      "90/90 - 8s - 92ms/step - accuracy: 0.9340 - loss: 0.2130\n",
      "Epoch 27/50\n",
      "90/90 - 8s - 92ms/step - accuracy: 0.9442 - loss: 0.1572\n",
      "Epoch 28/50\n",
      "90/90 - 8s - 92ms/step - accuracy: 0.9611 - loss: 0.1094\n",
      "Epoch 29/50\n",
      "90/90 - 8s - 92ms/step - accuracy: 0.7965 - loss: 0.4452\n",
      "Epoch 30/50\n",
      "90/90 - 8s - 92ms/step - accuracy: 0.9161 - loss: 0.2204\n",
      "Epoch 31/50\n",
      "90/90 - 8s - 92ms/step - accuracy: 0.9642 - loss: 0.0947\n",
      "Epoch 32/50\n",
      "90/90 - 8s - 92ms/step - accuracy: 0.9614 - loss: 0.1001\n",
      "Epoch 33/50\n",
      "90/90 - 8s - 92ms/step - accuracy: 0.9719 - loss: 0.0822\n",
      "Epoch 34/50\n",
      "90/90 - 8s - 92ms/step - accuracy: 0.9235 - loss: 0.1993\n",
      "Epoch 35/50\n",
      "90/90 - 10s - 113ms/step - accuracy: 0.9396 - loss: 0.1558\n",
      "Epoch 36/50\n",
      "90/90 - 8s - 92ms/step - accuracy: 0.9705 - loss: 0.0725\n",
      "Epoch 37/50\n",
      "90/90 - 8s - 92ms/step - accuracy: 0.9621 - loss: 0.1063\n",
      "Epoch 38/50\n",
      "90/90 - 8s - 93ms/step - accuracy: 0.9677 - loss: 0.0846\n",
      "Epoch 39/50\n",
      "90/90 - 8s - 92ms/step - accuracy: 0.9737 - loss: 0.0788\n",
      "Epoch 40/50\n",
      "90/90 - 8s - 93ms/step - accuracy: 0.9814 - loss: 0.0543\n",
      "Epoch 41/50\n",
      "90/90 - 8s - 92ms/step - accuracy: 0.9751 - loss: 0.0749\n",
      "Epoch 42/50\n",
      "90/90 - 8s - 92ms/step - accuracy: 0.9839 - loss: 0.0478\n",
      "Epoch 43/50\n",
      "90/90 - 8s - 92ms/step - accuracy: 0.9747 - loss: 0.0821\n",
      "Epoch 44/50\n",
      "90/90 - 8s - 92ms/step - accuracy: 0.9796 - loss: 0.0675\n",
      "Epoch 45/50\n",
      "90/90 - 8s - 92ms/step - accuracy: 0.9786 - loss: 0.0572\n",
      "Epoch 46/50\n",
      "90/90 - 8s - 92ms/step - accuracy: 0.9807 - loss: 0.0528\n",
      "Epoch 47/50\n",
      "90/90 - 8s - 92ms/step - accuracy: 0.9811 - loss: 0.0538\n",
      "Epoch 48/50\n",
      "90/90 - 8s - 92ms/step - accuracy: 0.9698 - loss: 0.0719\n",
      "Epoch 49/50\n",
      "90/90 - 8s - 92ms/step - accuracy: 0.9846 - loss: 0.0458\n",
      "Epoch 50/50\n",
      "90/90 - 8s - 92ms/step - accuracy: 0.9077 - loss: 0.2223\n"
     ]
    }
   ],
   "source": [
    "model = tf.keras.Model(inputs, outputs)\n",
    "\n",
    "model.compile(optimizer=\"adam\", loss=\"categorical_crossentropy\", metrics=[\"accuracy\"] )\n",
    "\n",
    "model.summary()\n",
    "with tf.device('/GPU:0'):\n",
    "    hist = model.fit(train_x, train_y, epochs=50, verbose=2)"
   ]
  },
  {
   "cell_type": "code",
   "execution_count": 25,
   "id": "b6d4588d-af26-4891-bc08-78a80e297c14",
   "metadata": {},
   "outputs": [
    {
     "name": "stderr",
     "output_type": "stream",
     "text": [
      "2024-11-12 18:00:23.664045: I external/local_xla/xla/stream_executor/cuda/cuda_asm_compiler.cc:393] ptxas warning : Registers are spilled to local memory in function 'gemm_fusion_dot_2056', 20 bytes spill stores, 20 bytes spill loads\n",
      "\n",
      "2024-11-12 18:00:23.747787: I external/local_xla/xla/stream_executor/cuda/cuda_asm_compiler.cc:393] ptxas warning : Registers are spilled to local memory in function 'gemm_fusion_dot_2056', 248 bytes spill stores, 248 bytes spill loads\n",
      "\n"
     ]
    },
    {
     "name": "stdout",
     "output_type": "stream",
     "text": [
      "\u001b[1m3/5\u001b[0m \u001b[32m━━━━━━━━━━━━\u001b[0m\u001b[37m━━━━━━━━\u001b[0m \u001b[1m0s\u001b[0m 31ms/step - accuracy: 0.8247 - loss: 0.6465"
     ]
    },
    {
     "name": "stderr",
     "output_type": "stream",
     "text": [
      "2024-11-12 18:00:26.944181: I external/local_xla/xla/stream_executor/cuda/cuda_asm_compiler.cc:393] ptxas warning : Registers are spilled to local memory in function 'gemm_fusion_dot_2056', 392 bytes spill stores, 400 bytes spill loads\n",
      "\n"
     ]
    },
    {
     "name": "stdout",
     "output_type": "stream",
     "text": [
      "\u001b[1m5/5\u001b[0m \u001b[32m━━━━━━━━━━━━━━━━━━━━\u001b[0m\u001b[37m\u001b[0m \u001b[1m11s\u001b[0m 2s/step - accuracy: 0.7936 - loss: 0.7822\n",
      "Loss = 0.9358620047569275\n",
      "Test Accuracy = 0.753333330154419\n"
     ]
    }
   ],
   "source": [
    "preds = model.evaluate(test_x, test_y)\n",
    "print (\"Loss = \" + str(preds[0]))\n",
    "print (\"Test Accuracy = \" + str(preds[1]))"
   ]
  },
  {
   "cell_type": "code",
   "execution_count": 27,
   "id": "0f21fc10-54e6-446e-b99a-ab3d4a3d2f0b",
   "metadata": {},
   "outputs": [],
   "source": [
    "model.save('real_fake_classifier_model1.keras')"
   ]
  },
  {
   "cell_type": "markdown",
   "id": "03b32131-6207-4c79-beda-69b3bb030c10",
   "metadata": {},
   "source": [
    "# Testing Efficient Model On Unseen data"
   ]
  },
  {
   "cell_type": "code",
   "execution_count": 31,
   "id": "2b88040b-b605-456a-ae5e-8f5af1421af3",
   "metadata": {},
   "outputs": [
    {
     "name": "stdout",
     "output_type": "stream",
     "text": [
      "\u001b[1m1/1\u001b[0m \u001b[32m━━━━━━━━━━━━━━━━━━━━\u001b[0m\u001b[37m\u001b[0m \u001b[1m3s\u001b[0m 3s/step\n",
      "Real\n"
     ]
    }
   ],
   "source": [
    "import tensorflow as tf\n",
    "from tensorflow.keras.preprocessing import image\n",
    "import numpy as np\n",
    "\n",
    "# Load the model\n",
    "model = tf.keras.models.load_model('real_fake_classifier_model1.keras')\n",
    "\n",
    "# Function to preprocess and predict\n",
    "def classify_image(img_path):\n",
    "    img = image.load_img(img_path, target_size=(224, 224))  # Corrected size to match model input\n",
    "    img_array = image.img_to_array(img) / 255.0\n",
    "    img_array = np.expand_dims(img_array, axis=0)\n",
    "    prediction = model.predict(img_array)\n",
    "    if prediction[0][0] > 0.5:\n",
    "        print(\"Fake\")\n",
    "    else:\n",
    "        print(\"Real\")\n",
    "\n",
    "# Test with a new image\n",
    "classify_image('real_0.jpg')"
   ]
  },
  {
   "cell_type": "code",
   "execution_count": null,
   "id": "5e72a0eb-700b-471c-97fe-fab856638b45",
   "metadata": {},
   "outputs": [],
   "source": []
  }
 ],
 "metadata": {
  "kernelspec": {
   "display_name": "Python 3 (ipykernel)",
   "language": "python",
   "name": "python3"
  },
  "language_info": {
   "codemirror_mode": {
    "name": "ipython",
    "version": 3
   },
   "file_extension": ".py",
   "mimetype": "text/x-python",
   "name": "python",
   "nbconvert_exporter": "python",
   "pygments_lexer": "ipython3",
   "version": "3.12.4"
  }
 },
 "nbformat": 4,
 "nbformat_minor": 5
}
